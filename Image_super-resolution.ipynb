{
  "nbformat": 4,
  "nbformat_minor": 0,
  "metadata": {
    "kernelspec": {
      "display_name": "Python 2",
      "language": "python",
      "name": "python2"
    },
    "language_info": {
      "codemirror_mode": {
        "name": "ipython",
        "version": 2
      },
      "file_extension": ".py",
      "mimetype": "text/x-python",
      "name": "python",
      "nbconvert_exporter": "python",
      "pygments_lexer": "ipython2",
      "version": "2.7.17"
    },
    "colab": {
      "name": "Image_super-resolution.ipynb",
      "provenance": [],
      "collapsed_sections": [],
      "include_colab_link": true
    }
  },
  "cells": [
    {
      "cell_type": "markdown",
      "metadata": {
        "id": "view-in-github",
        "colab_type": "text"
      },
      "source": [
        "<a href=\"https://colab.research.google.com/github/the-redlord/Image-super-resolution_keras/blob/master/Image_super-resolution.ipynb\" target=\"_parent\"><img src=\"https://colab.research.google.com/assets/colab-badge.svg\" alt=\"Open In Colab\"/></a>"
      ]
    },
    {
      "cell_type": "markdown",
      "metadata": {
        "id": "c8_gVDrrvITY",
        "colab_type": "text"
      },
      "source": [
        "# Downloading Dataset"
      ]
    },
    {
      "cell_type": "code",
      "metadata": {
        "id": "bsGfqLIKvmgX",
        "colab_type": "code",
        "colab": {
          "base_uri": "https://localhost:8080/",
          "height": 244
        },
        "outputId": "f869caa0-2a15-46d0-f85b-66a98bf7f4fc"
      },
      "source": [
        "!wget -O dataset.zip 'https://d3c33hcgiwev3.cloudfront.net/2Pkn2dIvSzu5J9nSL_s77w_d428a2188ff44626be89908f348634e6_Completed_Notebook_Data_Autoencoders.zip?Expires=1593820800&Signature=U3pa2XSj1lnLKtAv7mALc8VLw1bnuCYqEi1qlByZCvCbPWPUPj8CKkA2oTOP47v22nTh7cFNXamXFN9xO1l0VSiyV4ZIRSu49mJxwmEklJDnCdi4vls0lPG~nLeUQ8g-~5VYc0aSzaeMPJYpQsRvDs2NPMw7hgzkYUb6tTvWqCU_&Key-Pair-Id=APKAJLTNE6QMUY6HBC5A'"
      ],
      "execution_count": 1,
      "outputs": [
        {
          "output_type": "stream",
          "text": [
            "--2020-07-02 13:38:41--  https://d3c33hcgiwev3.cloudfront.net/2Pkn2dIvSzu5J9nSL_s77w_d428a2188ff44626be89908f348634e6_Completed_Notebook_Data_Autoencoders.zip?Expires=1593820800&Signature=U3pa2XSj1lnLKtAv7mALc8VLw1bnuCYqEi1qlByZCvCbPWPUPj8CKkA2oTOP47v22nTh7cFNXamXFN9xO1l0VSiyV4ZIRSu49mJxwmEklJDnCdi4vls0lPG~nLeUQ8g-~5VYc0aSzaeMPJYpQsRvDs2NPMw7hgzkYUb6tTvWqCU_&Key-Pair-Id=APKAJLTNE6QMUY6HBC5A\n",
            "Resolving d3c33hcgiwev3.cloudfront.net (d3c33hcgiwev3.cloudfront.net)... 52.222.136.42, 52.222.136.9, 52.222.136.30, ...\n",
            "Connecting to d3c33hcgiwev3.cloudfront.net (d3c33hcgiwev3.cloudfront.net)|52.222.136.42|:443... connected.\n",
            "HTTP request sent, awaiting response... 200 OK\n",
            "Length: 1005471956 (959M) [application/zip]\n",
            "Saving to: ‘dataset.rar’\n",
            "\n",
            "dataset.rar         100%[===================>] 958.89M  30.6MB/s    in 28s     \n",
            "\n",
            "2020-07-02 13:39:09 (34.0 MB/s) - ‘dataset.rar’ saved [1005471956/1005471956]\n",
            "\n"
          ],
          "name": "stdout"
        }
      ]
    },
    {
      "cell_type": "code",
      "metadata": {
        "id": "75P0R5iHvqDf",
        "colab_type": "code",
        "colab": {}
      },
      "source": [
        "!unzip dataset.zip\n",
        "!mv ./Completed_Notebook_Data_Autoencoders/data ./data\n",
        "!rm -rf ./Completed_Notebook_Data_Autoencoders"
      ],
      "execution_count": null,
      "outputs": []
    },
    {
      "cell_type": "markdown",
      "metadata": {
        "id": "Q7w75nNWtWU_",
        "colab_type": "text"
      },
      "source": [
        "# Image Super Resolution using Autoencoders"
      ]
    },
    {
      "cell_type": "markdown",
      "metadata": {
        "id": "LojU4_tQtWVR",
        "colab_type": "text"
      },
      "source": [
        "<img src=\"images/high_res_v_low_res.jpg\" width=550px>"
      ]
    },
    {
      "cell_type": "markdown",
      "metadata": {
        "id": "pm8Av5eatWVU",
        "colab_type": "text"
      },
      "source": [
        "## Task 1: Project Overview and Import Libraries"
      ]
    },
    {
      "cell_type": "code",
      "metadata": {
        "id": "mxiSgUi1tWVc",
        "colab_type": "code",
        "colab": {
          "base_uri": "https://localhost:8080/",
          "height": 36
        },
        "outputId": "6a0e31b9-8211-4ccf-ebdc-62f4dc23de9c"
      },
      "source": [
        "import os\n",
        "import re\n",
        "from scipy import ndimage, misc\n",
        "from skimage.transform import resize, rescale\n",
        "from matplotlib import pyplot\n",
        "import matplotlib.pyplot as plt\n",
        "import numpy as np\n",
        "np.random.seed(0)\n",
        "\n",
        "from tensorflow.keras.layers import Input, Dense, Conv2D, MaxPooling2D, Dropout\n",
        "from tensorflow.keras.layers import Conv2DTranspose, UpSampling2D, add\n",
        "from tensorflow.keras.models import Model\n",
        "from tensorflow.keras import regularizers\n",
        "import tensorflow as tf\n",
        "print(tf.__version__)"
      ],
      "execution_count": 3,
      "outputs": [
        {
          "output_type": "stream",
          "text": [
            "2.1.0\n"
          ],
          "name": "stdout"
        }
      ]
    },
    {
      "cell_type": "code",
      "metadata": {
        "id": "TQw77EnrtWVx",
        "colab_type": "code",
        "colab": {}
      },
      "source": [
        ""
      ],
      "execution_count": null,
      "outputs": []
    },
    {
      "cell_type": "markdown",
      "metadata": {
        "id": "8cYrz-cqtWWA",
        "colab_type": "text"
      },
      "source": [
        "## Task 2: What are Autoencoders?"
      ]
    },
    {
      "cell_type": "markdown",
      "metadata": {
        "id": "FrWV7HWftWWB",
        "colab_type": "text"
      },
      "source": [
        "<img src=\"images/autoencoder.jpg\">\n",
        "Credit: Autoencoder Schema by <a href=\"https://blog.keras.io/img/ae/autoencoder_schema.jpg\">Francois Chollet, 2016</a>."
      ]
    },
    {
      "cell_type": "markdown",
      "metadata": {
        "id": "-UPrBAgotWWG",
        "colab_type": "text"
      },
      "source": [
        "## Task 3: Build the Encoder"
      ]
    },
    {
      "cell_type": "code",
      "metadata": {
        "id": "egSxOrUDtWWH",
        "colab_type": "code",
        "colab": {}
      },
      "source": [
        ""
      ],
      "execution_count": null,
      "outputs": []
    },
    {
      "cell_type": "code",
      "metadata": {
        "id": "5g_8RgF7tWWT",
        "colab_type": "code",
        "colab": {}
      },
      "source": [
        ""
      ],
      "execution_count": null,
      "outputs": []
    },
    {
      "cell_type": "markdown",
      "metadata": {
        "id": "1ZtkqqKPtWWc",
        "colab_type": "text"
      },
      "source": [
        "## Task 4: Build the Decoder to Complete the Network"
      ]
    },
    {
      "cell_type": "markdown",
      "metadata": {
        "id": "NlFi41T4tWWe",
        "colab_type": "text"
      },
      "source": [
        "<img src=\"images/decoder.png\" width=450px>"
      ]
    },
    {
      "cell_type": "code",
      "metadata": {
        "id": "kFlMoQUdtWWg",
        "colab_type": "code",
        "colab": {}
      },
      "source": [
        ""
      ],
      "execution_count": null,
      "outputs": []
    },
    {
      "cell_type": "code",
      "metadata": {
        "id": "diocsRjStWWp",
        "colab_type": "code",
        "colab": {}
      },
      "source": [
        ""
      ],
      "execution_count": null,
      "outputs": []
    },
    {
      "cell_type": "code",
      "metadata": {
        "id": "IrRi4MG-tWWy",
        "colab_type": "code",
        "colab": {}
      },
      "source": [
        ""
      ],
      "execution_count": null,
      "outputs": []
    },
    {
      "cell_type": "code",
      "metadata": {
        "id": "IC5EEZvrtWW5",
        "colab_type": "code",
        "colab": {}
      },
      "source": [
        ""
      ],
      "execution_count": null,
      "outputs": []
    },
    {
      "cell_type": "markdown",
      "metadata": {
        "id": "9UqYp5ddtWXC",
        "colab_type": "text"
      },
      "source": [
        "## Task 5: Create Dataset and Specify Training Routine"
      ]
    },
    {
      "cell_type": "code",
      "metadata": {
        "scrolled": true,
        "id": "SVcI5dKctWXE",
        "colab_type": "code",
        "colab": {}
      },
      "source": [
        "def train_batches(just_load_dataset=False):\n",
        "\n",
        "    batches = 256 \n",
        "\n",
        "    batch = 0 \n",
        "    batch_nb = 0 \n",
        "    max_batches = -1 \n",
        "    \n",
        "    ep = 4 \n",
        "\n",
        "    images = []\n",
        "    x_train_n = []\n",
        "    x_train_down = []\n",
        "    \n",
        "    x_train_n2 = [] \n",
        "    x_train_down2 = []\n",
        "    \n",
        "    for root, dirnames, filenames in os.walk(\"/home/rhyme/Desktop/Project/data/cars_train\"):\n",
        "        for filename in filenames:\n",
        "            if re.search(\"\\.(jpg|jpeg|JPEG|png|bmp|tiff)$\", filename):\n",
        "                if batch_nb == max_batches: \n",
        "                    return x_train_n2, x_train_down2\n",
        "                filepath = os.path.join(root, filename)\n",
        "                image = pyplot.imread(filepath)\n",
        "                if len(image.shape) > 2:\n",
        "                        \n",
        "                    image_resized = resize(image, (256, 256))\n",
        "                    x_train_n.append(image_resized)\n",
        "                    x_train_down.append(rescale(rescale(image_resized, 0.5), 2.0))\n",
        "                    batch += 1\n",
        "                    if batch == batches:\n",
        "                        batch_nb += 1\n",
        "\n",
        "                        x_train_n2 = np.array(x_train_n)\n",
        "                        x_train_down2 = np.array(x_train_down)\n",
        "                        \n",
        "                        if just_load_dataset:\n",
        "                            return x_train_n2, x_train_down2\n",
        "                        \n",
        "                        print('Training batch', batch_nb, '(', batches, ')')\n",
        "\n",
        "                        autoencoder.fit(x_train_down2, x_train_n2,\n",
        "                            epochs=ep,\n",
        "                            batch_size=10,\n",
        "                            shuffle=True,\n",
        "                            validation_split=0.15)\n",
        "                    \n",
        "                        x_train_n = []\n",
        "                        x_train_down = []\n",
        "                    \n",
        "                        batch = 0\n",
        "\n",
        "    return x_train_n2, x_train_down2"
      ],
      "execution_count": null,
      "outputs": []
    },
    {
      "cell_type": "code",
      "metadata": {
        "id": "-Ydu6DB7tWXZ",
        "colab_type": "code",
        "colab": {}
      },
      "source": [
        ""
      ],
      "execution_count": null,
      "outputs": []
    },
    {
      "cell_type": "markdown",
      "metadata": {
        "id": "fSOZzjLTtWXk",
        "colab_type": "text"
      },
      "source": [
        "## Task 6: Load the Dataset and Pre-trained Model"
      ]
    },
    {
      "cell_type": "code",
      "metadata": {
        "id": "0WCI64ibtWXm",
        "colab_type": "code",
        "colab": {}
      },
      "source": [
        ""
      ],
      "execution_count": null,
      "outputs": []
    },
    {
      "cell_type": "code",
      "metadata": {
        "id": "kKrmh6jbtWXv",
        "colab_type": "code",
        "colab": {}
      },
      "source": [
        ""
      ],
      "execution_count": null,
      "outputs": []
    },
    {
      "cell_type": "markdown",
      "metadata": {
        "id": "UG27lP_MtWX0",
        "colab_type": "text"
      },
      "source": [
        "## Task 7: Model Predictions and Visualizing the Results"
      ]
    },
    {
      "cell_type": "code",
      "metadata": {
        "id": "SwMz1lvKtWX2",
        "colab_type": "code",
        "colab": {}
      },
      "source": [
        ""
      ],
      "execution_count": null,
      "outputs": []
    },
    {
      "cell_type": "code",
      "metadata": {
        "id": "hrP7-pbetWYB",
        "colab_type": "code",
        "colab": {}
      },
      "source": [
        ""
      ],
      "execution_count": null,
      "outputs": []
    },
    {
      "cell_type": "code",
      "metadata": {
        "id": "eOuiwKXYtWYI",
        "colab_type": "code",
        "colab": {}
      },
      "source": [
        ""
      ],
      "execution_count": null,
      "outputs": []
    },
    {
      "cell_type": "code",
      "metadata": {
        "id": "6339dWxmtWYN",
        "colab_type": "code",
        "colab": {}
      },
      "source": [
        ""
      ],
      "execution_count": null,
      "outputs": []
    },
    {
      "cell_type": "code",
      "metadata": {
        "id": "PSRT3HbltWYT",
        "colab_type": "code",
        "colab": {}
      },
      "source": [
        ""
      ],
      "execution_count": null,
      "outputs": []
    },
    {
      "cell_type": "code",
      "metadata": {
        "id": "hX8xoqWjtWYX",
        "colab_type": "code",
        "colab": {}
      },
      "source": [
        ""
      ],
      "execution_count": null,
      "outputs": []
    },
    {
      "cell_type": "code",
      "metadata": {
        "id": "VFFsEgnMtWYc",
        "colab_type": "code",
        "colab": {}
      },
      "source": [
        ""
      ],
      "execution_count": null,
      "outputs": []
    }
  ]
}